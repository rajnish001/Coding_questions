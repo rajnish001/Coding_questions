{
  "nbformat": 4,
  "nbformat_minor": 0,
  "metadata": {
    "kernelspec": {
      "display_name": "Python 3",
      "language": "python",
      "name": "python3"
    },
    "language_info": {
      "codemirror_mode": {
        "name": "ipython",
        "version": 3
      },
      "file_extension": ".py",
      "mimetype": "text/x-python",
      "name": "python",
      "nbconvert_exporter": "python",
      "pygments_lexer": "ipython3",
      "version": "3.8.3"
    },
    "colab": {
      "name": "coding_question_1.ipynb",
      "provenance": [],
      "include_colab_link": true
    }
  },
  "cells": [
    {
      "cell_type": "markdown",
      "metadata": {
        "id": "view-in-github",
        "colab_type": "text"
      },
      "source": [
        "<a href=\"https://colab.research.google.com/github/rajnish001/Coding_questions/blob/master/coding_question_1.ipynb\" target=\"_parent\"><img src=\"https://colab.research.google.com/assets/colab-badge.svg\" alt=\"Open In Colab\"/></a>"
      ]
    },
    {
      "cell_type": "markdown",
      "metadata": {
        "id": "veMHRqz249Mn",
        "colab_type": "text"
      },
      "source": [
        "Q: Implement an algorithm to determine if a string has all unique characters . What if you cannot use additional data structures? "
      ]
    },
    {
      "cell_type": "code",
      "metadata": {
        "id": "lCpfkvVC49Mo",
        "colab_type": "code",
        "colab": {
          "base_uri": "https://localhost:8080/",
          "height": 34
        },
        "outputId": "d655da75-946e-4fa2-bc88-64f46c84548c"
      },
      "source": [
        "#lets say given string is \"amma\"\n",
        "string1 = 'amma'\n",
        "len1 = len(string1)\n",
        "print(len1)"
      ],
      "execution_count": 1,
      "outputs": [
        {
          "output_type": "stream",
          "text": [
            "4\n"
          ],
          "name": "stdout"
        }
      ]
    },
    {
      "cell_type": "code",
      "metadata": {
        "id": "rKahC4AN49Ms",
        "colab_type": "code",
        "colab": {
          "base_uri": "https://localhost:8080/",
          "height": 67
        },
        "outputId": "6e44c975-e948-4928-9c28-975b64edc450"
      },
      "source": [
        "#option 1(set)\n",
        "set1 = set(string1)\n",
        "print(len(set1))\n",
        "print(set1)\n",
        "\n",
        "if(len(set1)== len(string1)):\n",
        "    print(\"all unique characters\")\n",
        "else:\n",
        "    print(\"not all unique characters\")\n"
      ],
      "execution_count": 2,
      "outputs": [
        {
          "output_type": "stream",
          "text": [
            "2\n",
            "{'a', 'm'}\n",
            "not all unique characters\n"
          ],
          "name": "stdout"
        }
      ]
    },
    {
      "cell_type": "code",
      "metadata": {
        "id": "WnHD5Aq349Mu",
        "colab_type": "code",
        "colab": {}
      },
      "source": [
        "#lets put this in function\n",
        "def if_all_unique_by_set(string_a):\n",
        "    if(len(string1)== len(set(string1))):\n",
        "        return True\n",
        "    else:\n",
        "        return False"
      ],
      "execution_count": 3,
      "outputs": []
    },
    {
      "cell_type": "code",
      "metadata": {
        "id": "tK10kX_I49Mw",
        "colab_type": "code",
        "colab": {
          "base_uri": "https://localhost:8080/",
          "height": 67
        },
        "outputId": "e1ea8bfa-3efd-46ec-da70-d0b5cd96f67a"
      },
      "source": [
        "print(\"give an input to check if all unique characters\")\n",
        "string1= input()\n",
        "if(if_all_unique_by_set(string1)):\n",
        "    print(\"all unique characters\")\n",
        "else:\n",
        "    print(\"not all unique characters\")"
      ],
      "execution_count": 5,
      "outputs": [
        {
          "output_type": "stream",
          "text": [
            "give an input to check if all unique characters\n",
            "rajniush\n",
            "all unique characters\n"
          ],
          "name": "stdout"
        }
      ]
    },
    {
      "cell_type": "code",
      "metadata": {
        "id": "5BDrC6lx49My",
        "colab_type": "code",
        "colab": {
          "base_uri": "https://localhost:8080/",
          "height": 235
        },
        "outputId": "2f6731d5-5207-4c4a-decf-37c8fab9f79b"
      },
      "source": [
        "#option2 using list\n",
        "string2= 'rajnishr'\n",
        "list1 = list(string2)\n",
        "print(list1)\n",
        "list2 = sorted(string2)\n",
        "print(list2)\n",
        "comparison_char= list2[0]\n",
        "for i in range(len(list2)-1):\n",
        "    if(comparison_char== list2[i+1]):\n",
        "        #return False\n",
        "        print(\"no\")\n",
        "        break\n",
        "    comparison_char= list2[i+1]\n",
        "    print(i)\n",
        "    print(comparison_char)\n",
        "    if(i== (len(list2))-2):\n",
        "        #return True\n",
        "        print('yes')"
      ],
      "execution_count": 6,
      "outputs": [
        {
          "output_type": "stream",
          "text": [
            "['r', 'a', 'j', 'n', 'i', 's', 'h', 'r']\n",
            "['a', 'h', 'i', 'j', 'n', 'r', 'r', 's']\n",
            "0\n",
            "h\n",
            "1\n",
            "i\n",
            "2\n",
            "j\n",
            "3\n",
            "n\n",
            "4\n",
            "r\n",
            "no\n"
          ],
          "name": "stdout"
        }
      ]
    },
    {
      "cell_type": "code",
      "metadata": {
        "id": "yev_Fesw49M0",
        "colab_type": "code",
        "colab": {}
      },
      "source": [
        "#lets put this in function\n",
        "def if_all_unique_by_list(string_a):\n",
        "    list2= sorted(string_a)\n",
        "    comp_char= list2[0]\n",
        "    for i in range(len(list2)-1):\n",
        "        if(comp_char== list2[i+1]):\n",
        "            return False\n",
        "        else:\n",
        "            comp_char= list2[i+1]\n",
        "            if(i== len(list2)-2):\n",
        "                return True"
      ],
      "execution_count": 7,
      "outputs": []
    },
    {
      "cell_type": "code",
      "metadata": {
        "id": "rgxBi66o49M2",
        "colab_type": "code",
        "colab": {
          "base_uri": "https://localhost:8080/",
          "height": 67
        },
        "outputId": "f8f4885a-c3a3-4460-ccb9-76126663894d"
      },
      "source": [
        "print(\"give a string to check if all characters unique\")\n",
        "string_a= input()\n",
        "if(if_all_unique_by_list(string_a)):\n",
        "    print(\"all unique characters\")\n",
        "    \n",
        "    \n",
        "else:\n",
        "    print(\"not all unique\")\n",
        "    \n",
        "    "
      ],
      "execution_count": 9,
      "outputs": [
        {
          "output_type": "stream",
          "text": [
            "give a string to check if all characters unique\n",
            "mukeshu\n",
            "not all unique\n"
          ],
          "name": "stdout"
        }
      ]
    },
    {
      "cell_type": "code",
      "metadata": {
        "id": "HD-buwQ749M5",
        "colab_type": "code",
        "colab": {}
      },
      "source": [
        ""
      ],
      "execution_count": null,
      "outputs": []
    }
  ]
}